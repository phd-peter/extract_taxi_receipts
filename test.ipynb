{
 "cells": [
  {
   "cell_type": "code",
   "execution_count": 1,
   "id": "1e825e8f",
   "metadata": {},
   "outputs": [
    {
     "name": "stdout",
     "output_type": "stream",
     "text": [
      "현재 Python 경로: /Users/peter/.pyenv/versions/3.10.14/bin/python\n",
      "Collecting pandas\n",
      "  Downloading pandas-2.3.1-cp310-cp310-macosx_11_0_arm64.whl (10.8 MB)\n",
      "\u001b[2K     \u001b[90m━━━━━━━━━━━━━━━━━━━━━━━━━━━━━━━━━━━━━━━━\u001b[0m \u001b[32m10.8/10.8 MB\u001b[0m \u001b[31m11.4 MB/s\u001b[0m eta \u001b[36m0:00:00\u001b[0m00:01\u001b[0m00:01\u001b[0m\n",
      "\u001b[?25hCollecting python-dotenv\n",
      "  Downloading python_dotenv-1.1.1-py3-none-any.whl (20 kB)\n",
      "Collecting openai\n",
      "  Downloading openai-1.95.1-py3-none-any.whl (755 kB)\n",
      "\u001b[2K     \u001b[90m━━━━━━━━━━━━━━━━━━━━━━━━━━━━━━━━━━━━━━\u001b[0m \u001b[32m755.6/755.6 kB\u001b[0m \u001b[31m11.0 MB/s\u001b[0m eta \u001b[36m0:00:00\u001b[0ma \u001b[36m0:00:01\u001b[0m\n",
      "\u001b[?25hRequirement already satisfied: python-dateutil>=2.8.2 in /Users/peter/.pyenv/versions/3.10.14/lib/python3.10/site-packages (from pandas) (2.9.0.post0)\n",
      "Collecting numpy>=1.22.4\n",
      "  Downloading numpy-2.2.6-cp310-cp310-macosx_14_0_arm64.whl (5.3 MB)\n",
      "\u001b[2K     \u001b[90m━━━━━━━━━━━━━━━━━━━━━━━━━━━━━━━━━━━━━━━━\u001b[0m \u001b[32m5.3/5.3 MB\u001b[0m \u001b[31m11.4 MB/s\u001b[0m eta \u001b[36m0:00:00\u001b[0m00:01\u001b[0m00:01\u001b[0m\n",
      "\u001b[?25hCollecting pytz>=2020.1\n",
      "  Downloading pytz-2025.2-py2.py3-none-any.whl (509 kB)\n",
      "\u001b[2K     \u001b[90m━━━━━━━━━━━━━━━━━━━━━━━━━━━━━━━━━━━━━━\u001b[0m \u001b[32m509.2/509.2 kB\u001b[0m \u001b[31m10.2 MB/s\u001b[0m eta \u001b[36m0:00:00\u001b[0ma \u001b[36m0:00:01\u001b[0m\n",
      "\u001b[?25hCollecting tzdata>=2022.7\n",
      "  Downloading tzdata-2025.2-py2.py3-none-any.whl (347 kB)\n",
      "\u001b[2K     \u001b[90m━━━━━━━━━━━━━━━━━━━━━━━━━━━━━━━━━━━━━━\u001b[0m \u001b[32m347.8/347.8 kB\u001b[0m \u001b[31m10.0 MB/s\u001b[0m eta \u001b[36m0:00:00\u001b[0m\n",
      "\u001b[?25hCollecting distro<2,>=1.7.0\n",
      "  Downloading distro-1.9.0-py3-none-any.whl (20 kB)\n",
      "Collecting jiter<1,>=0.4.0\n",
      "  Downloading jiter-0.10.0-cp310-cp310-macosx_11_0_arm64.whl (322 kB)\n",
      "\u001b[2K     \u001b[90m━━━━━━━━━━━━━━━━━━━━━━━━━━━━━━━━━━━━━━━\u001b[0m \u001b[32m322.8/322.8 kB\u001b[0m \u001b[31m9.7 MB/s\u001b[0m eta \u001b[36m0:00:00\u001b[0m\n",
      "\u001b[?25hCollecting httpx<1,>=0.23.0\n",
      "  Downloading httpx-0.28.1-py3-none-any.whl (73 kB)\n",
      "\u001b[2K     \u001b[90m━━━━━━━━━━━━━━━━━━━━━━━━━━━━━━━━━━━━━━━━\u001b[0m \u001b[32m73.5/73.5 kB\u001b[0m \u001b[31m6.7 MB/s\u001b[0m eta \u001b[36m0:00:00\u001b[0m\n",
      "\u001b[?25hCollecting pydantic<3,>=1.9.0\n",
      "  Downloading pydantic-2.11.7-py3-none-any.whl (444 kB)\n",
      "\u001b[2K     \u001b[90m━━━━━━━━━━━━━━━━━━━━━━━━━━━━━━━━━━━━━━\u001b[0m \u001b[32m444.8/444.8 kB\u001b[0m \u001b[31m11.7 MB/s\u001b[0m eta \u001b[36m0:00:00\u001b[0m00:01\u001b[0m\n",
      "\u001b[?25hCollecting anyio<5,>=3.5.0\n",
      "  Downloading anyio-4.9.0-py3-none-any.whl (100 kB)\n",
      "\u001b[2K     \u001b[90m━━━━━━━━━━━━━━━━━━━━━━━━━━━━━━━━━━━━━━━\u001b[0m \u001b[32m100.9/100.9 kB\u001b[0m \u001b[31m7.1 MB/s\u001b[0m eta \u001b[36m0:00:00\u001b[0m\n",
      "\u001b[?25hRequirement already satisfied: typing-extensions<5,>=4.11 in /Users/peter/.pyenv/versions/3.10.14/lib/python3.10/site-packages (from openai) (4.14.1)\n",
      "Collecting tqdm>4\n",
      "  Downloading tqdm-4.67.1-py3-none-any.whl (78 kB)\n",
      "\u001b[2K     \u001b[90m━━━━━━━━━━━━━━━━━━━━━━━━━━━━━━━━━━━━━━━━\u001b[0m \u001b[32m78.5/78.5 kB\u001b[0m \u001b[31m5.8 MB/s\u001b[0m eta \u001b[36m0:00:00\u001b[0m\n",
      "\u001b[?25hCollecting sniffio\n",
      "  Downloading sniffio-1.3.1-py3-none-any.whl (10 kB)\n",
      "Collecting idna>=2.8\n",
      "  Downloading idna-3.10-py3-none-any.whl (70 kB)\n",
      "\u001b[2K     \u001b[90m━━━━━━━━━━━━━━━━━━━━━━━━━━━━━━━━━━━━━━━━\u001b[0m \u001b[32m70.4/70.4 kB\u001b[0m \u001b[31m5.2 MB/s\u001b[0m eta \u001b[36m0:00:00\u001b[0m\n",
      "\u001b[?25hRequirement already satisfied: exceptiongroup>=1.0.2 in /Users/peter/.pyenv/versions/3.10.14/lib/python3.10/site-packages (from anyio<5,>=3.5.0->openai) (1.3.0)\n",
      "Collecting httpcore==1.*\n",
      "  Downloading httpcore-1.0.9-py3-none-any.whl (78 kB)\n",
      "\u001b[2K     \u001b[90m━━━━━━━━━━━━━━━━━━━━━━━━━━━━━━━━━━━━━━━━\u001b[0m \u001b[32m78.8/78.8 kB\u001b[0m \u001b[31m5.1 MB/s\u001b[0m eta \u001b[36m0:00:00\u001b[0m\n",
      "\u001b[?25hCollecting certifi\n",
      "  Downloading certifi-2025.7.9-py3-none-any.whl (159 kB)\n",
      "\u001b[2K     \u001b[90m━━━━━━━━━━━━━━━━━━━━━━━━━━━━━━━━━━━━━━━\u001b[0m \u001b[32m159.2/159.2 kB\u001b[0m \u001b[31m8.4 MB/s\u001b[0m eta \u001b[36m0:00:00\u001b[0m\n",
      "\u001b[?25hCollecting h11>=0.16\n",
      "  Downloading h11-0.16.0-py3-none-any.whl (37 kB)\n",
      "Collecting typing-inspection>=0.4.0\n",
      "  Downloading typing_inspection-0.4.1-py3-none-any.whl (14 kB)\n",
      "Collecting annotated-types>=0.6.0\n",
      "  Downloading annotated_types-0.7.0-py3-none-any.whl (13 kB)\n",
      "Collecting pydantic-core==2.33.2\n",
      "  Downloading pydantic_core-2.33.2-cp310-cp310-macosx_11_0_arm64.whl (1.9 MB)\n",
      "\u001b[2K     \u001b[90m━━━━━━━━━━━━━━━━━━━━━━━━━━━━━━━━━━━━━━━━\u001b[0m \u001b[32m1.9/1.9 MB\u001b[0m \u001b[31m11.0 MB/s\u001b[0m eta \u001b[36m0:00:00\u001b[0ma \u001b[36m0:00:01\u001b[0m\n",
      "\u001b[?25hRequirement already satisfied: six>=1.5 in /Users/peter/.pyenv/versions/3.10.14/lib/python3.10/site-packages (from python-dateutil>=2.8.2->pandas) (1.17.0)\n",
      "Installing collected packages: pytz, tzdata, typing-inspection, tqdm, sniffio, python-dotenv, pydantic-core, numpy, jiter, idna, h11, distro, certifi, annotated-types, pydantic, pandas, httpcore, anyio, httpx, openai\n",
      "Successfully installed annotated-types-0.7.0 anyio-4.9.0 certifi-2025.7.9 distro-1.9.0 h11-0.16.0 httpcore-1.0.9 httpx-0.28.1 idna-3.10 jiter-0.10.0 numpy-2.2.6 openai-1.95.1 pandas-2.3.1 pydantic-2.11.7 pydantic-core-2.33.2 python-dotenv-1.1.1 pytz-2025.2 sniffio-1.3.1 tqdm-4.67.1 typing-inspection-0.4.1 tzdata-2025.2\n",
      "\n",
      "\u001b[1m[\u001b[0m\u001b[34;49mnotice\u001b[0m\u001b[1;39;49m]\u001b[0m\u001b[39;49m A new release of pip is available: \u001b[0m\u001b[31;49m23.0.1\u001b[0m\u001b[39;49m -> \u001b[0m\u001b[32;49m25.1.1\u001b[0m\n",
      "\u001b[1m[\u001b[0m\u001b[34;49mnotice\u001b[0m\u001b[1;39;49m]\u001b[0m\u001b[39;49m To update, run: \u001b[0m\u001b[32;49mpip install --upgrade pip\u001b[0m\n"
     ]
    }
   ],
   "source": [
    "import sys\n",
    "print(\"현재 Python 경로:\", sys.executable)\n",
    "!{sys.executable} -m pip install pandas python-dotenv openai"
   ]
  },
  {
   "cell_type": "code",
   "execution_count": 2,
   "id": "1b0c11ce",
   "metadata": {},
   "outputs": [],
   "source": [
    "import os, sys, json, base64, datetime as dt\n",
    "import pandas as pd\n",
    "from typing import List, Dict, Tuple\n",
    "from pathlib import Path\n",
    "from dotenv import load_dotenv\n",
    "from openai import OpenAI"
   ]
  },
  {
   "cell_type": "code",
   "execution_count": 4,
   "id": "5a9107bb",
   "metadata": {},
   "outputs": [],
   "source": [
    "# 1) 환경 변수에서 API 키 읽기\n",
    "load_dotenv()\n",
    "client = OpenAI(api_key=os.getenv(\"OPENAI_API_KEY\"))"
   ]
  },
  {
   "cell_type": "code",
   "execution_count": 7,
   "id": "a0d15d53",
   "metadata": {},
   "outputs": [],
   "source": [
    "def pair_images_from_dir(image_dir: str) -> List[Tuple[str, str]]:\n",
    "    \"\"\"\n",
    "    • `image_dir` 안의 모든 .jpg/.jpeg/.png 파일을 이름순으로 정렬한 뒤,\n",
    "      순서대로 2개씩 (앞면, 뒷면) 튜플 리스트로 반환한다.\n",
    "    • 파일 개수가 홀수라면 마지막 하나는 무시한다.\n",
    "    \"\"\"\n",
    "    p = Path(image_dir)\n",
    "    imgs = sorted([str(f) for f in p.iterdir() if f.suffix.lower() in (\".jpg\", \".jpeg\", \".png\")])\n",
    "    # 짝수 개수만 유지\n",
    "    n = len(imgs) // 2 * 2\n",
    "    # print(imgs) : 파일 경로를 str이 들어있는 리스트로 반환\n",
    "    # -> ['img\\\\KakaoTalk_20250711_132102437.jpg', 'img\\\\KakaoTalk_20250711_132102437_01.jpg', 'img\\\\KakaoTalk_20250711_132102437_02.jpg', 'img\\\\KakaoTalk_20250711_132102437_03.jpg', 'img\\\\KakaoTalk_20250717_122102437.jpg', 'img\\\\KakaoTalk_20250717_122102437_01.jpg']\n",
    "\n",
    "    paired_imgs = [(imgs[i], imgs[i + 1]) for i in range(0, n, 2)]\n",
    "    # print(paired_imgs) : 파일 경로를 2개씩 짝지어서(튜플) 리스트로 반환\n",
    "    # [('img\\\\KakaoTalk_20250711_132102437.jpg', 'img\\\\KakaoTalk_20250711_132102437_01.jpg'), ('img\\\\KakaoTalk_20250711_132102437_02.jpg', 'img\\\\KakaoTalk_20250711_132102437_03.jpg'), ('img\\\\KakaoTalk_20250717_122102437.jpg', 'img\\\\KakaoTalk_20250717_122102437_01.jpg')]\n",
    "    return paired_imgs\n",
    "\n"
   ]
  },
  {
   "cell_type": "code",
   "execution_count": 8,
   "id": "f56de00e",
   "metadata": {},
   "outputs": [],
   "source": [
    "# 2) 이미지 → Base64 인코딩\n",
    "def b64(path: str) -> str:\n",
    "    with open(path, \"rb\") as f:\n",
    "        return base64.b64encode(f.read()).decode(\"utf-8\")"
   ]
  },
  {
   "cell_type": "code",
   "execution_count": 9,
   "id": "6f380b34",
   "metadata": {},
   "outputs": [
    {
     "name": "stdout",
     "output_type": "stream",
     "text": [
      "b'\\xff\\xd8\\xff\\xe1\\x02(Exif\\x00\\x00MM\\x00*\\x00\\x00\\x00\\x08\\x00\\x08\\x01\\x00\\x00\\x04\\x00\\x00\\x00\\x01\\x00\\x00\\x0b\\xb8\\x01\\x10\\x00\\x02\\x00\\x00\\x00\\x0c\\x00\\x00\\x00n\\x01\\x01\\x00\\x04\\x00\\x00\\x00\\x01\\x00\\x00\\x0f\\xa0\\x01\\x0f\\x00\\x02\\x00\\x00\\x00\\x08\\x00\\x00\\x00z\\x87i\\x00\\x04\\x00\\x00\\x00\\x01\\x00\\x00\\x00\\x96\\x01\\x12\\x00\\x04\\x00\\x00\\x00\\x01\\x00\\x00\\x00\\x00\\x012\\x00\\x02\\x00\\x00'\n",
      "b'/9j/4QIoRXhpZgAATU0AKgAAAAgACAEAAAQAAAABAAALuAEQAAIAAAAMAAAAbgEBAAQAAAABAAAPoAEPAAIAAAAIAAAAeodpAAQA'\n",
      "/9j/4QIoRXhpZgAATU0AKgAAAAgACAEAAAQAAAABAAALuAEQAAIAAAAMAAAAbgEBAAQAAAABAAAPoAEPAAIAAAAIAAAAeodpAAQA\n"
     ]
    }
   ],
   "source": [
    "with open(\"img/KakaoTalk_20250711_132102437.jpg\", \"rb\") as f:\n",
    "    binary_data=f.read()\n",
    "    binary_encoded_data=base64.b64encode(binary_data)\n",
    "    binary_string_data=binary_encoded_data.decode(\"utf-8\")\n",
    "    \n",
    "    print(binary_data[:100])\n",
    "    print(binary_encoded_data[:100])\n",
    "    print(binary_string_data[:100])"
   ]
  },
  {
   "cell_type": "code",
   "execution_count": 11,
   "id": "bdb4b9a9",
   "metadata": {},
   "outputs": [
    {
     "name": "stdout",
     "output_type": "stream",
     "text": [
      "Response(id='resp_687272c24f2081979dfdce78491967400ab255d3c6e39715', created_at=1752330946.0, error=None, incomplete_details=None, instructions=None, metadata={}, model='gpt-4o-2024-08-06', object='response', output=[ResponseFunctionToolCall(arguments='{\"date\":\"2023-07-07\",\"applicant\":\"이찬수\",\"fare\":27700,\"paid_at\":\"2023-07-07 23:42\"}', call_id='call_W0eOEoICw7Na17Qh9vaoXsWr', name='parse_taxi_receipt', type='function_call', id='fc_687272c55c948197a4d89689df6e1f130ab255d3c6e39715', status='completed')], parallel_tool_calls=True, temperature=1.0, tool_choice='auto', tools=[FunctionTool(name='parse_taxi_receipt', parameters={'type': 'object', 'properties': {'date': {'type': 'string', 'description': 'YYYY-MM-DD'}, 'applicant': {'type': 'string', 'description': 'Hand-written name if present'}, 'purpose': {'type': 'string', 'description': \"업무내용 필드, 예: '리사→집'\"}, 'route': {'type': 'string', 'description': '출발지 - 도착지'}, 'fare': {'type': 'integer', 'description': '총 결제 금액 (원)'}, 'paid_at': {'type': 'string', 'description': 'YYYY-MM-DD HH:MM'}}, 'required': ['date', 'fare', 'paid_at'], 'additionalProperties': False}, strict=True, type='function', description='Extract key fields from Korean taxi receipts')], top_p=1.0, background=False, max_output_tokens=None, max_tool_calls=None, previous_response_id=None, prompt=None, reasoning=Reasoning(effort=None, generate_summary=None, summary=None), service_tier='default', status='completed', text=ResponseTextConfig(format=ResponseFormatText(type='text')), top_logprobs=0, truncation='disabled', usage=ResponseUsage(input_tokens=895, input_tokens_details=InputTokensDetails(cached_tokens=0), output_tokens=49, output_tokens_details=OutputTokensDetails(reasoning_tokens=0), total_tokens=944), user=None, store=True)\n"
     ]
    }
   ],
   "source": [
    "# def call_openai_mydemo(front_img: str) -> Dict:\n",
    "\n",
    "front_img=\"./img/KakaoTalk_20250711_132102437.jpg\"\n",
    "\"\"\"단일 영숮으 앞면만 추출 -> dict 반환\"\"\"\n",
    "tools = [{\n",
    "    \"type\": \"function\",\n",
    "    \"name\": \"parse_taxi_receipt\",\n",
    "    \"description\": \"Extract key fields from Korean taxi receipts\",\n",
    "    \"parameters\": {\n",
    "        \"type\": \"object\",\n",
    "        \"properties\": {\n",
    "            \"date\": {\n",
    "                \"type\": \"string\",\n",
    "                \"description\": \"YYYY-MM-DD\"\n",
    "            },\n",
    "            \"applicant\": {\n",
    "                \"type\": \"string\",\n",
    "                \"description\": \"Hand-written name if present\"\n",
    "            },\n",
    "            \"purpose\": {\n",
    "                \"type\": \"string\",\n",
    "                \"description\": \"업무내용 필드, 예: '리사→집'\"\n",
    "            },\n",
    "            \"route\": {\n",
    "                \"type\": \"string\",\n",
    "                \"description\": \"출발지 - 도착지\"\n",
    "            },\n",
    "            \"fare\": {\n",
    "                \"type\": \"integer\",\n",
    "                \"description\": \"총 결제 금액 (원)\"\n",
    "            },\n",
    "            \"paid_at\": {\n",
    "                \"type\": \"string\",\n",
    "                \"description\": \"YYYY-MM-DD HH:MM\"\n",
    "            }\n",
    "        },\n",
    "        \"required\": [\"date\", \"fare\", \"paid_at\"],\n",
    "        \"additionalProperties\": False\n",
    "    }\n",
    "}]\n",
    "input=[\n",
    "        {\n",
    "            \"role\": \"system\",\n",
    "            \"content\": \"You are a helpful assistant that extracts structured data from Korean taxi receipts.\"\n",
    "        },\n",
    "        {\n",
    "            \"role\": \"user\",\n",
    "            \"content\": [\n",
    "                {\n",
    "                    \"type\": \"input_image\",\n",
    "                    \"image_url\": f\"data:image/jpeg;base64,{b64(front_img)}\"\n",
    "                }\n",
    "            ]\n",
    "        },\n",
    "    ]\n",
    "response = client.responses.create(\n",
    "    model=\"gpt-4o\",\n",
    "    input=input,\n",
    "    tools=tools\n",
    ")\n",
    "print(response)\n"
   ]
  },
  {
   "cell_type": "code",
   "execution_count": null,
   "id": "fdf234a5",
   "metadata": {},
   "outputs": [],
   "source": [
    "if __name__ == \"__main__\":\n",
    "    image_dir = \"./img\"\n",
    "    for front, back in pair_images_from_dir(image_dir):\n",
    "        print(front)    \n",
    "        print(back)\n",
    "        info = call_openai(front, back)\n",
    "        print(info)"
   ]
  },
  {
   "cell_type": "code",
   "execution_count": null,
   "id": "500fc69e",
   "metadata": {},
   "outputs": [],
   "source": [
    "if __name__ == \"__main__\":\n",
    "    image_dir = \"./img\"\n",
    "    for front, back in pair_images_from_dir(image_dir):\n",
    "        print(front)    \n",
    "        print(back)\n",
    "        info = call_openai(front, back)\n",
    "        print(info)"
   ]
  },
  {
   "cell_type": "code",
   "execution_count": null,
   "id": "0ac7e5ff",
   "metadata": {},
   "outputs": [],
   "source": [
    "if __name__ == \"__main__\":\n",
    "    image_dir = \"./img\"\n",
    "    for front, back in pair_images_from_dir(image_dir):\n",
    "        print(front)    \n",
    "        print(back)\n",
    "        info = call_openai(front, back)\n",
    "        print(info)"
   ]
  },
  {
   "cell_type": "code",
   "execution_count": null,
   "id": "c59c764a",
   "metadata": {},
   "outputs": [],
   "source": [
    "if __name__ == \"__main__\":\n",
    "    image_dir = \"./img\"\n",
    "    for front, back in pair_images_from_dir(image_dir):\n",
    "        print(front)    \n",
    "        print(back)\n",
    "        info = call_openai(front, back)\n",
    "        print(info)"
   ]
  },
  {
   "cell_type": "code",
   "execution_count": null,
   "id": "0c2b4283",
   "metadata": {},
   "outputs": [],
   "source": [
    "if __name__ == \"__main__\":\n",
    "    image_dir = \"./img\"\n",
    "    for front, back in pair_images_from_dir(image_dir):\n",
    "        print(front)    \n",
    "        print(back)\n",
    "        info = call_openai(front, back)\n",
    "        print(info)"
   ]
  },
  {
   "cell_type": "code",
   "execution_count": null,
   "id": "be98cac8",
   "metadata": {},
   "outputs": [],
   "source": [
    "if __name__ == \"__main__\":\n",
    "    image_dir = \"./img\"\n",
    "    for front, back in pair_images_from_dir(image_dir):\n",
    "        print(front)    \n",
    "        print(back)\n",
    "        info = call_openai(front, back)\n",
    "        print(info)"
   ]
  },
  {
   "cell_type": "code",
   "execution_count": null,
   "id": "bcfbb852",
   "metadata": {},
   "outputs": [],
   "source": [
    "if __name__ == \"__main__\":\n",
    "    image_dir = \"./img\"\n",
    "    for front, back in pair_images_from_dir(image_dir):\n",
    "        print(front)    \n",
    "        print(back)\n",
    "        info = call_openai(front, back)\n",
    "        print(info)"
   ]
  },
  {
   "cell_type": "code",
   "execution_count": null,
   "id": "6d47d440",
   "metadata": {},
   "outputs": [],
   "source": [
    "if __name__ == \"__main__\":\n",
    "    image_dir = \"./img\"\n",
    "    for front, back in pair_images_from_dir(image_dir):\n",
    "        print(front)    \n",
    "        print(back)\n",
    "        info = call_openai(front, back)\n",
    "        print(info)"
   ]
  }
 ],
 "metadata": {
  "kernelspec": {
   "display_name": "Python 3",
   "language": "python",
   "name": "python3"
  },
  "language_info": {
   "codemirror_mode": {
    "name": "ipython",
    "version": 3
   },
   "file_extension": ".py",
   "mimetype": "text/x-python",
   "name": "python",
   "nbconvert_exporter": "python",
   "pygments_lexer": "ipython3",
   "version": "3.10.14"
  }
 },
 "nbformat": 4,
 "nbformat_minor": 5
}
