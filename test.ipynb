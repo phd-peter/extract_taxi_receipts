{
 "cells": [
  {
   "cell_type": "code",
   "execution_count": null,
   "id": "1b0c11ce",
   "metadata": {},
   "outputs": [],
   "source": [
    "import os, sys, json, base64, datetime as dt\n",
    "import pandas as pd\n",
    "from typing import List, Dict, Tuple\n",
    "from pathlib import Path\n",
    "from dotenv import load_dotenv\n",
    "from openai import OpenAI"
   ]
  },
  {
   "cell_type": "code",
   "execution_count": null,
   "id": "5a9107bb",
   "metadata": {},
   "outputs": [],
   "source": [
    "# 1) 환경 변수에서 API 키 읽기\n",
    "load_dotenv()\n",
    "client = OpenAI(api_key=os.getenv(\"OPENAI_API_KEY\"))"
   ]
  },
  {
   "cell_type": "code",
   "execution_count": null,
   "id": "a0d15d53",
   "metadata": {},
   "outputs": [],
   "source": [
    "def pair_images_from_dir(image_dir: str) -> List[Tuple[str, str]]:\n",
    "    \"\"\"\n",
    "    • `image_dir` 안의 모든 .jpg/.jpeg/.png 파일을 이름순으로 정렬한 뒤,\n",
    "      순서대로 2개씩 (앞면, 뒷면) 튜플 리스트로 반환한다.\n",
    "    • 파일 개수가 홀수라면 마지막 하나는 무시한다.\n",
    "    \"\"\"\n",
    "    p = Path(image_dir)\n",
    "    imgs = sorted([str(f) for f in p.iterdir() if f.suffix.lower() in (\".jpg\", \".jpeg\", \".png\")])\n",
    "    # 짝수 개수만 유지\n",
    "    n = len(imgs) // 2 * 2\n",
    "    # print(imgs) : 파일 경로를 str이 들어있는 리스트로 반환\n",
    "    # -> ['img\\\\KakaoTalk_20250711_132102437.jpg', 'img\\\\KakaoTalk_20250711_132102437_01.jpg', 'img\\\\KakaoTalk_20250711_132102437_02.jpg', 'img\\\\KakaoTalk_20250711_132102437_03.jpg', 'img\\\\KakaoTalk_20250717_122102437.jpg', 'img\\\\KakaoTalk_20250717_122102437_01.jpg']\n",
    "\n",
    "    paired_imgs = [(imgs[i], imgs[i + 1]) for i in range(0, n, 2)]\n",
    "    # print(paired_imgs) : 파일 경로를 2개씩 짝지어서(튜플) 리스트로 반환\n",
    "    # [('img\\\\KakaoTalk_20250711_132102437.jpg', 'img\\\\KakaoTalk_20250711_132102437_01.jpg'), ('img\\\\KakaoTalk_20250711_132102437_02.jpg', 'img\\\\KakaoTalk_20250711_132102437_03.jpg'), ('img\\\\KakaoTalk_20250717_122102437.jpg', 'img\\\\KakaoTalk_20250717_122102437_01.jpg')]\n",
    "    return paired_imgs\n",
    "\n"
   ]
  },
  {
   "cell_type": "code",
   "execution_count": null,
   "id": "f56de00e",
   "metadata": {},
   "outputs": [],
   "source": [
    "# 2) 이미지 → Base64 인코딩\n",
    "def b64(path: str) -> str:\n",
    "    with open(path, \"rb\") as f:\n",
    "        return base64.b64encode(f.read()).decode(\"utf-8\")"
   ]
  },
  {
   "cell_type": "code",
   "execution_count": null,
   "id": "6f380b34",
   "metadata": {},
   "outputs": [],
   "source": [
    "with open(\"img/KakaoTalk_20250711_132102437.jpg\", \"rb\") as f:\n",
    "    binary_data=f.read()\n",
    "    binary_encoded_data=base64.b64encode(binary_data)\n",
    "    binary_string_data=binary_encoded_data.decode(\"utf-8\")\n",
    "    \n",
    "    print(binary_data[:100])\n",
    "    print(binary_encoded_data[:100])\n",
    "    print(binary_string_data[:100])"
   ]
  },
  {
   "cell_type": "code",
   "execution_count": null,
   "id": "bdb4b9a9",
   "metadata": {},
   "outputs": [],
   "source": [
    "# def call_openai_mydemo(front_img: str) -> Dict:\n",
    "\n",
    "front_img=\"./img/KakaoTalk_20250711_132102437.jpg\"\n",
    "\"\"\"단일 영숮으 앞면만 추출 -> dict 반환\"\"\"\n",
    "tools = [{\n",
    "    \"type\": \"function\",\n",
    "    \"name\": \"parse_taxi_receipt\",\n",
    "    \"description\": \"Extract key fields from Korean taxi receipts\",\n",
    "    \"parameters\": {\n",
    "        \"type\": \"object\",\n",
    "        \"properties\": {\n",
    "            \"date\": {\n",
    "                \"type\": \"string\",\n",
    "                \"description\": \"YYYY-MM-DD\"\n",
    "            },\n",
    "            \"applicant\": {\n",
    "                \"type\": \"string\",\n",
    "                \"description\": \"Hand-written name if present\"\n",
    "            },\n",
    "            \"purpose\": {\n",
    "                \"type\": \"string\",\n",
    "                \"description\": \"업무내용 필드, 예: '리사→집'\"\n",
    "            },\n",
    "            \"route\": {\n",
    "                \"type\": \"string\",\n",
    "                \"description\": \"출발지 - 도착지\"\n",
    "            },\n",
    "            \"fare\": {\n",
    "                \"type\": \"integer\",\n",
    "                \"description\": \"총 결제 금액 (원)\"\n",
    "            },\n",
    "            \"paid_at\": {\n",
    "                \"type\": \"string\",\n",
    "                \"description\": \"YYYY-MM-DD HH:MM\"\n",
    "            }\n",
    "        },\n",
    "        \"required\": [\"date\", \"fare\", \"paid_at\"],\n",
    "        \"additionalProperties\": False\n",
    "    }\n",
    "}]\n",
    "input=[\n",
    "        {\n",
    "            \"role\": \"system\",\n",
    "            \"content\": \"You are a helpful assistant that extracts structured data from Korean taxi receipts.\"\n",
    "        },\n",
    "        {\n",
    "            \"role\": \"user\",\n",
    "            \"content\": [\n",
    "                {\n",
    "                    \"type\": \"input_image\",\n",
    "                    \"image_url\": f\"data:image/jpeg;base64,{b64(front_img)}\"\n",
    "                }\n",
    "            ]\n",
    "        },\n",
    "    ]\n",
    "response = client.responses.create(\n",
    "    model=\"gpt-4o\",\n",
    "    input=\n",
    "    tools=tools\n",
    ")\n",
    "print(response)\n"
   ]
  },
  {
   "cell_type": "code",
   "execution_count": null,
   "id": "fdf234a5",
   "metadata": {},
   "outputs": [],
   "source": [
    "if __name__ == \"__main__\":\n",
    "    image_dir = \"./img\"\n",
    "    for front, back in pair_images_from_dir(image_dir):\n",
    "        print(front)    \n",
    "        print(back)\n",
    "        info = call_openai(front, back)\n",
    "        print(info)"
   ]
  },
  {
   "cell_type": "code",
   "execution_count": null,
   "id": "500fc69e",
   "metadata": {},
   "outputs": [],
   "source": [
    "if __name__ == \"__main__\":\n",
    "    image_dir = \"./img\"\n",
    "    for front, back in pair_images_from_dir(image_dir):\n",
    "        print(front)    \n",
    "        print(back)\n",
    "        info = call_openai(front, back)\n",
    "        print(info)"
   ]
  },
  {
   "cell_type": "code",
   "execution_count": null,
   "id": "0ac7e5ff",
   "metadata": {},
   "outputs": [],
   "source": [
    "if __name__ == \"__main__\":\n",
    "    image_dir = \"./img\"\n",
    "    for front, back in pair_images_from_dir(image_dir):\n",
    "        print(front)    \n",
    "        print(back)\n",
    "        info = call_openai(front, back)\n",
    "        print(info)"
   ]
  },
  {
   "cell_type": "code",
   "execution_count": null,
   "id": "c59c764a",
   "metadata": {},
   "outputs": [],
   "source": [
    "if __name__ == \"__main__\":\n",
    "    image_dir = \"./img\"\n",
    "    for front, back in pair_images_from_dir(image_dir):\n",
    "        print(front)    \n",
    "        print(back)\n",
    "        info = call_openai(front, back)\n",
    "        print(info)"
   ]
  },
  {
   "cell_type": "code",
   "execution_count": null,
   "id": "0c2b4283",
   "metadata": {},
   "outputs": [],
   "source": [
    "if __name__ == \"__main__\":\n",
    "    image_dir = \"./img\"\n",
    "    for front, back in pair_images_from_dir(image_dir):\n",
    "        print(front)    \n",
    "        print(back)\n",
    "        info = call_openai(front, back)\n",
    "        print(info)"
   ]
  },
  {
   "cell_type": "code",
   "execution_count": null,
   "id": "be98cac8",
   "metadata": {},
   "outputs": [],
   "source": [
    "if __name__ == \"__main__\":\n",
    "    image_dir = \"./img\"\n",
    "    for front, back in pair_images_from_dir(image_dir):\n",
    "        print(front)    \n",
    "        print(back)\n",
    "        info = call_openai(front, back)\n",
    "        print(info)"
   ]
  },
  {
   "cell_type": "code",
   "execution_count": null,
   "id": "bcfbb852",
   "metadata": {},
   "outputs": [],
   "source": [
    "if __name__ == \"__main__\":\n",
    "    image_dir = \"./img\"\n",
    "    for front, back in pair_images_from_dir(image_dir):\n",
    "        print(front)    \n",
    "        print(back)\n",
    "        info = call_openai(front, back)\n",
    "        print(info)"
   ]
  },
  {
   "cell_type": "code",
   "execution_count": null,
   "id": "6d47d440",
   "metadata": {},
   "outputs": [],
   "source": [
    "if __name__ == \"__main__\":\n",
    "    image_dir = \"./img\"\n",
    "    for front, back in pair_images_from_dir(image_dir):\n",
    "        print(front)    \n",
    "        print(back)\n",
    "        info = call_openai(front, back)\n",
    "        print(info)"
   ]
  }
 ],
 "metadata": {
  "kernelspec": {
   "display_name": "Python 3",
   "language": "python",
   "name": "python3"
  },
  "language_info": {
   "codemirror_mode": {
    "name": "ipython",
    "version": 3
   },
   "file_extension": ".py",
   "mimetype": "text/x-python",
   "name": "python",
   "nbconvert_exporter": "python",
   "pygments_lexer": "ipython3",
   "version": "3.12.4"
  }
 },
 "nbformat": 4,
 "nbformat_minor": 5
}
